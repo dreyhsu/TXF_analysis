{
 "cells": [
  {
   "cell_type": "code",
   "execution_count": 17,
   "id": "50b832a5",
   "metadata": {},
   "outputs": [],
   "source": [
    "import pandas as pd"
   ]
  },
  {
   "cell_type": "code",
   "execution_count": 18,
   "id": "b6098b7e",
   "metadata": {},
   "outputs": [
    {
     "name": "stderr",
     "output_type": "stream",
     "text": [
      "C:\\Users\\Drey\\AppData\\Local\\Temp\\ipykernel_13200\\2539983957.py:1: DtypeWarning: Columns (2) have mixed types. Specify dtype option on import or set low_memory=False.\n",
      "  df = pd.read_csv('data/Daily_2025_08_22_cleaned.csv')\n"
     ]
    }
   ],
   "source": [
    "df = pd.read_csv('data/Daily_2025_08_22_cleaned.csv')"
   ]
  },
  {
   "cell_type": "code",
   "execution_count": 19,
   "id": "9cdc846e",
   "metadata": {},
   "outputs": [],
   "source": [
    "con1 = df.商品代號 == 'TX'\n",
    "con2 = df['到期月份(週別)'] == '202509'\n",
    "df = df[con1 & con2]"
   ]
  },
  {
   "cell_type": "code",
   "execution_count": 16,
   "id": "f59c7494",
   "metadata": {},
   "outputs": [
    {
     "data": {
      "text/plain": [
       "商品代號\n",
       "MTX    150696\n",
       "TMF    101466\n",
       "TX      67782\n",
       "HCF      8109\n",
       "PQF      7630\n",
       "        ...  \n",
       "HI1         1\n",
       "PDF         1\n",
       "GZF         1\n",
       "QYF         1\n",
       "MAF         1\n",
       "Name: count, Length: 321, dtype: int64"
      ]
     },
     "execution_count": 16,
     "metadata": {},
     "output_type": "execute_result"
    }
   ],
   "source": [
    "# Count rows for each unique 商品代號\n",
    "product_counts = df['商品代號'].value_counts()\n",
    "product_counts"
   ]
  },
  {
   "cell_type": "code",
   "execution_count": null,
   "id": "6849b9b9",
   "metadata": {},
   "outputs": [],
   "source": []
  }
 ],
 "metadata": {
  "kernelspec": {
   "display_name": "txf",
   "language": "python",
   "name": "python3"
  },
  "language_info": {
   "codemirror_mode": {
    "name": "ipython",
    "version": 3
   },
   "file_extension": ".py",
   "mimetype": "text/x-python",
   "name": "python",
   "nbconvert_exporter": "python",
   "pygments_lexer": "ipython3",
   "version": "3.11.13"
  }
 },
 "nbformat": 4,
 "nbformat_minor": 5
}
