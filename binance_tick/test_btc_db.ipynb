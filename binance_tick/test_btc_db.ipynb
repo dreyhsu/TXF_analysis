{
 "cells": [
  {
   "cell_type": "markdown",
   "metadata": {},
   "source": [
    "# BTC Tick Data Database Analysis\n",
    "\n",
    "This notebook tests and analyzes the SQLite database created by `fetch_btc_tick.py`"
   ]
  },
  {
   "cell_type": "code",
   "execution_count": 1,
   "metadata": {},
   "outputs": [],
   "source": [
    "import sqlite3\n",
    "import pandas as pd\n",
    "import matplotlib.pyplot as plt\n",
    "import numpy as np\n",
    "from datetime import datetime\n",
    "import os"
   ]
  },
  {
   "cell_type": "markdown",
   "metadata": {},
   "source": [
    "## 1. Database Connection and Basic Info"
   ]
  },
  {
   "cell_type": "code",
   "execution_count": 2,
   "metadata": {},
   "outputs": [
    {
     "name": "stdout",
     "output_type": "stream",
     "text": [
      "Database file exists: True\n",
      "Database size: 6.25 MB\n"
     ]
    }
   ],
   "source": [
    "# Connect to the database\n",
    "db_path = \"btc_tick_data.db\"\n",
    "conn = sqlite3.connect(db_path)\n",
    "\n",
    "print(f\"Database file exists: {os.path.exists(db_path)}\")\n",
    "print(f\"Database size: {os.path.getsize(db_path) / (1024*1024):.2f} MB\")"
   ]
  },
  {
   "cell_type": "code",
   "execution_count": 3,
   "metadata": {},
   "outputs": [
    {
     "name": "stdout",
     "output_type": "stream",
     "text": [
      "Tables in database: [('tick_data',)]\n",
      "\n",
      "Table schema:\n",
      "  id - INTEGER (PRIMARY KEY)\n",
      "  price - REAL (NOT NULL)\n",
      "  qty - REAL (NOT NULL)\n",
      "  quoteQty - REAL (NOT NULL)\n",
      "  time - TIMESTAMP (NOT NULL)\n",
      "  isBuyerMaker - BOOLEAN (NOT NULL)\n",
      "  isBestMatch - BOOLEAN (NOT NULL)\n",
      "  created_at - TIMESTAMP (NULL)\n"
     ]
    }
   ],
   "source": [
    "# Get table info\n",
    "cursor = conn.cursor()\n",
    "cursor.execute(\"SELECT name FROM sqlite_master WHERE type='table';\")\n",
    "tables = cursor.fetchall()\n",
    "print(\"Tables in database:\", tables)\n",
    "\n",
    "# Get table schema\n",
    "cursor.execute(\"PRAGMA table_info(tick_data);\")\n",
    "schema = cursor.fetchall()\n",
    "print(\"\\nTable schema:\")\n",
    "for col in schema:\n",
    "    print(f\"  {col[1]} - {col[2]} ({'PRIMARY KEY' if col[5] else 'NOT NULL' if col[3] else 'NULL'})\")"
   ]
  },
  {
   "cell_type": "markdown",
   "metadata": {},
   "source": [
    "## 2. Data Overview"
   ]
  },
  {
   "cell_type": "code",
   "execution_count": 20,
   "metadata": {},
   "outputs": [
    {
     "name": "stdout",
     "output_type": "stream",
     "text": [
      "Total tick records: 40,386\n",
      "Time range: 2025-10-01T17:36:54.470000 to 2025-10-01T17:51:03.021000\n",
      "Data collection duration: 0:14:08.551000\n",
      "Average ticks per second: 47.59\n"
     ]
    }
   ],
   "source": [
    "# Get total record count\n",
    "cursor.execute(\"SELECT COUNT(*) FROM tick_data;\")\n",
    "total_records = cursor.fetchone()[0]\n",
    "print(f\"Total tick records: {total_records:,}\")\n",
    "\n",
    "# Get time range\n",
    "cursor.execute(\"SELECT MIN(time), MAX(time) FROM tick_data;\")\n",
    "min_time, max_time = cursor.fetchone()\n",
    "print(f\"Time range: {min_time} to {max_time}\")\n",
    "\n",
    "# Calculate duration\n",
    "if min_time and max_time:\n",
    "    start_dt = datetime.fromisoformat(min_time)\n",
    "    end_dt = datetime.fromisoformat(max_time)\n",
    "    duration = end_dt - start_dt\n",
    "    print(f\"Data collection duration: {duration}\")\n",
    "    print(f\"Average ticks per second: {total_records / duration.total_seconds():.2f}\")"
   ]
  },
  {
   "cell_type": "code",
   "execution_count": 21,
   "metadata": {},
   "outputs": [
    {
     "name": "stdout",
     "output_type": "stream",
     "text": [
      "First 10 records:\n"
     ]
    },
    {
     "data": {
      "application/vnd.microsoft.datawrangler.viewer.v0+json": {
       "columns": [
        {
         "name": "index",
         "rawType": "int64",
         "type": "integer"
        },
        {
         "name": "id",
         "rawType": "int64",
         "type": "integer"
        },
        {
         "name": "price",
         "rawType": "float64",
         "type": "float"
        },
        {
         "name": "qty",
         "rawType": "float64",
         "type": "float"
        },
        {
         "name": "quoteQty",
         "rawType": "float64",
         "type": "float"
        },
        {
         "name": "time",
         "rawType": "object",
         "type": "string"
        },
        {
         "name": "isBuyerMaker",
         "rawType": "int64",
         "type": "integer"
        },
        {
         "name": "isBestMatch",
         "rawType": "int64",
         "type": "integer"
        },
        {
         "name": "created_at",
         "rawType": "object",
         "type": "string"
        }
       ],
       "ref": "e61bf507-3689-454c-a168-d21c1956e0c4",
       "rows": [
        [
         "0",
         "5271336763",
         "116358.05",
         "5e-05",
         "5.817902500000001",
         "2025-10-01T17:36:54.470000",
         "1",
         "1",
         "2025-10-01 09:36:51"
        ],
        [
         "1",
         "5271336764",
         "116358.05",
         "0.00085",
         "98.9043425",
         "2025-10-01T17:36:54.626000",
         "1",
         "1",
         "2025-10-01 09:36:52"
        ],
        [
         "2",
         "5271336765",
         "116358.05",
         "0.00097",
         "112.86730850000001",
         "2025-10-01T17:36:54.971000",
         "1",
         "1",
         "2025-10-01 09:36:52"
        ],
        [
         "3",
         "5271336766",
         "116358.05",
         "0.02737",
         "3184.7198285",
         "2025-10-01T17:36:55.467000",
         "1",
         "1",
         "2025-10-01 09:36:52"
        ],
        [
         "4",
         "5271336767",
         "116358.05",
         "0.17602",
         "20481.343961000002",
         "2025-10-01T17:36:55.488000",
         "1",
         "1",
         "2025-10-01 09:36:53"
        ],
        [
         "5",
         "5271336768",
         "116358.05",
         "0.26797",
         "31180.466658499998",
         "2025-10-01T17:36:55.488000",
         "1",
         "1",
         "2025-10-01 09:36:53"
        ],
        [
         "6",
         "5271336769",
         "116358.05",
         "0.0007",
         "81.450635",
         "2025-10-01T17:36:55.488000",
         "1",
         "1",
         "2025-10-01 09:36:53"
        ],
        [
         "7",
         "5271336770",
         "116358.05",
         "0.05155",
         "5998.2574775",
         "2025-10-01T17:36:55.488000",
         "1",
         "1",
         "2025-10-01 09:36:53"
        ],
        [
         "8",
         "5271336771",
         "116358.05",
         "0.0499",
         "5806.266695",
         "2025-10-01T17:36:55.488000",
         "1",
         "1",
         "2025-10-01 09:36:53"
        ],
        [
         "9",
         "5271336772",
         "116358.05",
         "0.00017",
         "19.7808685",
         "2025-10-01T17:36:55.488000",
         "1",
         "1",
         "2025-10-01 09:36:53"
        ]
       ],
       "shape": {
        "columns": 8,
        "rows": 10
       }
      },
      "text/html": [
       "<div>\n",
       "<style scoped>\n",
       "    .dataframe tbody tr th:only-of-type {\n",
       "        vertical-align: middle;\n",
       "    }\n",
       "\n",
       "    .dataframe tbody tr th {\n",
       "        vertical-align: top;\n",
       "    }\n",
       "\n",
       "    .dataframe thead th {\n",
       "        text-align: right;\n",
       "    }\n",
       "</style>\n",
       "<table border=\"1\" class=\"dataframe\">\n",
       "  <thead>\n",
       "    <tr style=\"text-align: right;\">\n",
       "      <th></th>\n",
       "      <th>id</th>\n",
       "      <th>price</th>\n",
       "      <th>qty</th>\n",
       "      <th>quoteQty</th>\n",
       "      <th>time</th>\n",
       "      <th>isBuyerMaker</th>\n",
       "      <th>isBestMatch</th>\n",
       "      <th>created_at</th>\n",
       "    </tr>\n",
       "  </thead>\n",
       "  <tbody>\n",
       "    <tr>\n",
       "      <th>0</th>\n",
       "      <td>5271336763</td>\n",
       "      <td>116358.05</td>\n",
       "      <td>0.00005</td>\n",
       "      <td>5.817903</td>\n",
       "      <td>2025-10-01T17:36:54.470000</td>\n",
       "      <td>1</td>\n",
       "      <td>1</td>\n",
       "      <td>2025-10-01 09:36:51</td>\n",
       "    </tr>\n",
       "    <tr>\n",
       "      <th>1</th>\n",
       "      <td>5271336764</td>\n",
       "      <td>116358.05</td>\n",
       "      <td>0.00085</td>\n",
       "      <td>98.904342</td>\n",
       "      <td>2025-10-01T17:36:54.626000</td>\n",
       "      <td>1</td>\n",
       "      <td>1</td>\n",
       "      <td>2025-10-01 09:36:52</td>\n",
       "    </tr>\n",
       "    <tr>\n",
       "      <th>2</th>\n",
       "      <td>5271336765</td>\n",
       "      <td>116358.05</td>\n",
       "      <td>0.00097</td>\n",
       "      <td>112.867309</td>\n",
       "      <td>2025-10-01T17:36:54.971000</td>\n",
       "      <td>1</td>\n",
       "      <td>1</td>\n",
       "      <td>2025-10-01 09:36:52</td>\n",
       "    </tr>\n",
       "    <tr>\n",
       "      <th>3</th>\n",
       "      <td>5271336766</td>\n",
       "      <td>116358.05</td>\n",
       "      <td>0.02737</td>\n",
       "      <td>3184.719828</td>\n",
       "      <td>2025-10-01T17:36:55.467000</td>\n",
       "      <td>1</td>\n",
       "      <td>1</td>\n",
       "      <td>2025-10-01 09:36:52</td>\n",
       "    </tr>\n",
       "    <tr>\n",
       "      <th>4</th>\n",
       "      <td>5271336767</td>\n",
       "      <td>116358.05</td>\n",
       "      <td>0.17602</td>\n",
       "      <td>20481.343961</td>\n",
       "      <td>2025-10-01T17:36:55.488000</td>\n",
       "      <td>1</td>\n",
       "      <td>1</td>\n",
       "      <td>2025-10-01 09:36:53</td>\n",
       "    </tr>\n",
       "    <tr>\n",
       "      <th>5</th>\n",
       "      <td>5271336768</td>\n",
       "      <td>116358.05</td>\n",
       "      <td>0.26797</td>\n",
       "      <td>31180.466658</td>\n",
       "      <td>2025-10-01T17:36:55.488000</td>\n",
       "      <td>1</td>\n",
       "      <td>1</td>\n",
       "      <td>2025-10-01 09:36:53</td>\n",
       "    </tr>\n",
       "    <tr>\n",
       "      <th>6</th>\n",
       "      <td>5271336769</td>\n",
       "      <td>116358.05</td>\n",
       "      <td>0.00070</td>\n",
       "      <td>81.450635</td>\n",
       "      <td>2025-10-01T17:36:55.488000</td>\n",
       "      <td>1</td>\n",
       "      <td>1</td>\n",
       "      <td>2025-10-01 09:36:53</td>\n",
       "    </tr>\n",
       "    <tr>\n",
       "      <th>7</th>\n",
       "      <td>5271336770</td>\n",
       "      <td>116358.05</td>\n",
       "      <td>0.05155</td>\n",
       "      <td>5998.257478</td>\n",
       "      <td>2025-10-01T17:36:55.488000</td>\n",
       "      <td>1</td>\n",
       "      <td>1</td>\n",
       "      <td>2025-10-01 09:36:53</td>\n",
       "    </tr>\n",
       "    <tr>\n",
       "      <th>8</th>\n",
       "      <td>5271336771</td>\n",
       "      <td>116358.05</td>\n",
       "      <td>0.04990</td>\n",
       "      <td>5806.266695</td>\n",
       "      <td>2025-10-01T17:36:55.488000</td>\n",
       "      <td>1</td>\n",
       "      <td>1</td>\n",
       "      <td>2025-10-01 09:36:53</td>\n",
       "    </tr>\n",
       "    <tr>\n",
       "      <th>9</th>\n",
       "      <td>5271336772</td>\n",
       "      <td>116358.05</td>\n",
       "      <td>0.00017</td>\n",
       "      <td>19.780869</td>\n",
       "      <td>2025-10-01T17:36:55.488000</td>\n",
       "      <td>1</td>\n",
       "      <td>1</td>\n",
       "      <td>2025-10-01 09:36:53</td>\n",
       "    </tr>\n",
       "  </tbody>\n",
       "</table>\n",
       "</div>"
      ],
      "text/plain": [
       "           id      price      qty      quoteQty                        time  \\\n",
       "0  5271336763  116358.05  0.00005      5.817903  2025-10-01T17:36:54.470000   \n",
       "1  5271336764  116358.05  0.00085     98.904342  2025-10-01T17:36:54.626000   \n",
       "2  5271336765  116358.05  0.00097    112.867309  2025-10-01T17:36:54.971000   \n",
       "3  5271336766  116358.05  0.02737   3184.719828  2025-10-01T17:36:55.467000   \n",
       "4  5271336767  116358.05  0.17602  20481.343961  2025-10-01T17:36:55.488000   \n",
       "5  5271336768  116358.05  0.26797  31180.466658  2025-10-01T17:36:55.488000   \n",
       "6  5271336769  116358.05  0.00070     81.450635  2025-10-01T17:36:55.488000   \n",
       "7  5271336770  116358.05  0.05155   5998.257478  2025-10-01T17:36:55.488000   \n",
       "8  5271336771  116358.05  0.04990   5806.266695  2025-10-01T17:36:55.488000   \n",
       "9  5271336772  116358.05  0.00017     19.780869  2025-10-01T17:36:55.488000   \n",
       "\n",
       "   isBuyerMaker  isBestMatch           created_at  \n",
       "0             1            1  2025-10-01 09:36:51  \n",
       "1             1            1  2025-10-01 09:36:52  \n",
       "2             1            1  2025-10-01 09:36:52  \n",
       "3             1            1  2025-10-01 09:36:52  \n",
       "4             1            1  2025-10-01 09:36:53  \n",
       "5             1            1  2025-10-01 09:36:53  \n",
       "6             1            1  2025-10-01 09:36:53  \n",
       "7             1            1  2025-10-01 09:36:53  \n",
       "8             1            1  2025-10-01 09:36:53  \n",
       "9             1            1  2025-10-01 09:36:53  "
      ]
     },
     "metadata": {},
     "output_type": "display_data"
    }
   ],
   "source": [
    "# Load sample data\n",
    "df_sample = pd.read_sql_query(\n",
    "    \"SELECT * FROM tick_data ORDER BY time LIMIT 10\", \n",
    "    conn\n",
    ")\n",
    "print(\"First 10 records:\")\n",
    "display(df_sample)"
   ]
  },
  {
   "cell_type": "code",
   "execution_count": 22,
   "metadata": {},
   "outputs": [
    {
     "name": "stdout",
     "output_type": "stream",
     "text": [
      "Latest 10 records:\n"
     ]
    },
    {
     "data": {
      "application/vnd.microsoft.datawrangler.viewer.v0+json": {
       "columns": [
        {
         "name": "index",
         "rawType": "int64",
         "type": "integer"
        },
        {
         "name": "id",
         "rawType": "int64",
         "type": "integer"
        },
        {
         "name": "price",
         "rawType": "float64",
         "type": "float"
        },
        {
         "name": "qty",
         "rawType": "float64",
         "type": "float"
        },
        {
         "name": "quoteQty",
         "rawType": "float64",
         "type": "float"
        },
        {
         "name": "time",
         "rawType": "object",
         "type": "string"
        },
        {
         "name": "isBuyerMaker",
         "rawType": "int64",
         "type": "integer"
        },
        {
         "name": "isBestMatch",
         "rawType": "int64",
         "type": "integer"
        },
        {
         "name": "created_at",
         "rawType": "object",
         "type": "string"
        }
       ],
       "ref": "171f74b7-c65b-4830-95ff-642ff7098e74",
       "rows": [
        [
         "0",
         "5271381660",
         "116394.74",
         "0.01",
         "1163.9474",
         "2025-10-01T17:51:03.726000",
         "1",
         "1",
         "2025-10-01 09:51:01"
        ],
        [
         "1",
         "5271381659",
         "116394.74",
         "8e-05",
         "9.3115792",
         "2025-10-01T17:51:03.598000",
         "1",
         "1",
         "2025-10-01 09:51:01"
        ],
        [
         "2",
         "5271381658",
         "116394.75",
         "8e-05",
         "9.311580000000001",
         "2025-10-01T17:51:03.597000",
         "0",
         "1",
         "2025-10-01 09:51:01"
        ],
        [
         "3",
         "5271381657",
         "116394.75",
         "7e-05",
         "8.147632499999999",
         "2025-10-01T17:51:03.302000",
         "0",
         "1",
         "2025-10-01 09:51:00"
        ],
        [
         "4",
         "5271381656",
         "116394.75",
         "7e-05",
         "8.147632499999999",
         "2025-10-01T17:51:03.284000",
         "0",
         "1",
         "2025-10-01 09:51:00"
        ],
        [
         "5",
         "5271381655",
         "116394.74",
         "0.00071",
         "82.6402654",
         "2025-10-01T17:51:03.191000",
         "1",
         "1",
         "2025-10-01 09:51:00"
        ],
        [
         "6",
         "5271381654",
         "116394.74",
         "0.00234",
         "272.36369160000004",
         "2025-10-01T17:51:03.021000",
         "1",
         "1",
         "2025-10-01 09:51:00"
        ],
        [
         "7",
         "5271381653",
         "116394.75",
         "7e-05",
         "8.147632499999999",
         "2025-10-01T17:51:02.086000",
         "0",
         "1",
         "2025-10-01 09:50:59"
        ],
        [
         "8",
         "5271381652",
         "116394.75",
         "7e-05",
         "8.147632499999999",
         "2025-10-01T17:51:01.871000",
         "0",
         "1",
         "2025-10-01 09:50:59"
        ],
        [
         "9",
         "5271381651",
         "116394.75",
         "0.00427",
         "497.00558250000006",
         "2025-10-01T17:51:01.772000",
         "0",
         "1",
         "2025-10-01 09:50:59"
        ]
       ],
       "shape": {
        "columns": 8,
        "rows": 10
       }
      },
      "text/html": [
       "<div>\n",
       "<style scoped>\n",
       "    .dataframe tbody tr th:only-of-type {\n",
       "        vertical-align: middle;\n",
       "    }\n",
       "\n",
       "    .dataframe tbody tr th {\n",
       "        vertical-align: top;\n",
       "    }\n",
       "\n",
       "    .dataframe thead th {\n",
       "        text-align: right;\n",
       "    }\n",
       "</style>\n",
       "<table border=\"1\" class=\"dataframe\">\n",
       "  <thead>\n",
       "    <tr style=\"text-align: right;\">\n",
       "      <th></th>\n",
       "      <th>id</th>\n",
       "      <th>price</th>\n",
       "      <th>qty</th>\n",
       "      <th>quoteQty</th>\n",
       "      <th>time</th>\n",
       "      <th>isBuyerMaker</th>\n",
       "      <th>isBestMatch</th>\n",
       "      <th>created_at</th>\n",
       "    </tr>\n",
       "  </thead>\n",
       "  <tbody>\n",
       "    <tr>\n",
       "      <th>0</th>\n",
       "      <td>5271381660</td>\n",
       "      <td>116394.74</td>\n",
       "      <td>0.01000</td>\n",
       "      <td>1163.947400</td>\n",
       "      <td>2025-10-01T17:51:03.726000</td>\n",
       "      <td>1</td>\n",
       "      <td>1</td>\n",
       "      <td>2025-10-01 09:51:01</td>\n",
       "    </tr>\n",
       "    <tr>\n",
       "      <th>1</th>\n",
       "      <td>5271381659</td>\n",
       "      <td>116394.74</td>\n",
       "      <td>0.00008</td>\n",
       "      <td>9.311579</td>\n",
       "      <td>2025-10-01T17:51:03.598000</td>\n",
       "      <td>1</td>\n",
       "      <td>1</td>\n",
       "      <td>2025-10-01 09:51:01</td>\n",
       "    </tr>\n",
       "    <tr>\n",
       "      <th>2</th>\n",
       "      <td>5271381658</td>\n",
       "      <td>116394.75</td>\n",
       "      <td>0.00008</td>\n",
       "      <td>9.311580</td>\n",
       "      <td>2025-10-01T17:51:03.597000</td>\n",
       "      <td>0</td>\n",
       "      <td>1</td>\n",
       "      <td>2025-10-01 09:51:01</td>\n",
       "    </tr>\n",
       "    <tr>\n",
       "      <th>3</th>\n",
       "      <td>5271381657</td>\n",
       "      <td>116394.75</td>\n",
       "      <td>0.00007</td>\n",
       "      <td>8.147632</td>\n",
       "      <td>2025-10-01T17:51:03.302000</td>\n",
       "      <td>0</td>\n",
       "      <td>1</td>\n",
       "      <td>2025-10-01 09:51:00</td>\n",
       "    </tr>\n",
       "    <tr>\n",
       "      <th>4</th>\n",
       "      <td>5271381656</td>\n",
       "      <td>116394.75</td>\n",
       "      <td>0.00007</td>\n",
       "      <td>8.147632</td>\n",
       "      <td>2025-10-01T17:51:03.284000</td>\n",
       "      <td>0</td>\n",
       "      <td>1</td>\n",
       "      <td>2025-10-01 09:51:00</td>\n",
       "    </tr>\n",
       "    <tr>\n",
       "      <th>5</th>\n",
       "      <td>5271381655</td>\n",
       "      <td>116394.74</td>\n",
       "      <td>0.00071</td>\n",
       "      <td>82.640265</td>\n",
       "      <td>2025-10-01T17:51:03.191000</td>\n",
       "      <td>1</td>\n",
       "      <td>1</td>\n",
       "      <td>2025-10-01 09:51:00</td>\n",
       "    </tr>\n",
       "    <tr>\n",
       "      <th>6</th>\n",
       "      <td>5271381654</td>\n",
       "      <td>116394.74</td>\n",
       "      <td>0.00234</td>\n",
       "      <td>272.363692</td>\n",
       "      <td>2025-10-01T17:51:03.021000</td>\n",
       "      <td>1</td>\n",
       "      <td>1</td>\n",
       "      <td>2025-10-01 09:51:00</td>\n",
       "    </tr>\n",
       "    <tr>\n",
       "      <th>7</th>\n",
       "      <td>5271381653</td>\n",
       "      <td>116394.75</td>\n",
       "      <td>0.00007</td>\n",
       "      <td>8.147632</td>\n",
       "      <td>2025-10-01T17:51:02.086000</td>\n",
       "      <td>0</td>\n",
       "      <td>1</td>\n",
       "      <td>2025-10-01 09:50:59</td>\n",
       "    </tr>\n",
       "    <tr>\n",
       "      <th>8</th>\n",
       "      <td>5271381652</td>\n",
       "      <td>116394.75</td>\n",
       "      <td>0.00007</td>\n",
       "      <td>8.147632</td>\n",
       "      <td>2025-10-01T17:51:01.871000</td>\n",
       "      <td>0</td>\n",
       "      <td>1</td>\n",
       "      <td>2025-10-01 09:50:59</td>\n",
       "    </tr>\n",
       "    <tr>\n",
       "      <th>9</th>\n",
       "      <td>5271381651</td>\n",
       "      <td>116394.75</td>\n",
       "      <td>0.00427</td>\n",
       "      <td>497.005583</td>\n",
       "      <td>2025-10-01T17:51:01.772000</td>\n",
       "      <td>0</td>\n",
       "      <td>1</td>\n",
       "      <td>2025-10-01 09:50:59</td>\n",
       "    </tr>\n",
       "  </tbody>\n",
       "</table>\n",
       "</div>"
      ],
      "text/plain": [
       "           id      price      qty     quoteQty                        time  \\\n",
       "0  5271381660  116394.74  0.01000  1163.947400  2025-10-01T17:51:03.726000   \n",
       "1  5271381659  116394.74  0.00008     9.311579  2025-10-01T17:51:03.598000   \n",
       "2  5271381658  116394.75  0.00008     9.311580  2025-10-01T17:51:03.597000   \n",
       "3  5271381657  116394.75  0.00007     8.147632  2025-10-01T17:51:03.302000   \n",
       "4  5271381656  116394.75  0.00007     8.147632  2025-10-01T17:51:03.284000   \n",
       "5  5271381655  116394.74  0.00071    82.640265  2025-10-01T17:51:03.191000   \n",
       "6  5271381654  116394.74  0.00234   272.363692  2025-10-01T17:51:03.021000   \n",
       "7  5271381653  116394.75  0.00007     8.147632  2025-10-01T17:51:02.086000   \n",
       "8  5271381652  116394.75  0.00007     8.147632  2025-10-01T17:51:01.871000   \n",
       "9  5271381651  116394.75  0.00427   497.005583  2025-10-01T17:51:01.772000   \n",
       "\n",
       "   isBuyerMaker  isBestMatch           created_at  \n",
       "0             1            1  2025-10-01 09:51:01  \n",
       "1             1            1  2025-10-01 09:51:01  \n",
       "2             0            1  2025-10-01 09:51:01  \n",
       "3             0            1  2025-10-01 09:51:00  \n",
       "4             0            1  2025-10-01 09:51:00  \n",
       "5             1            1  2025-10-01 09:51:00  \n",
       "6             1            1  2025-10-01 09:51:00  \n",
       "7             0            1  2025-10-01 09:50:59  \n",
       "8             0            1  2025-10-01 09:50:59  \n",
       "9             0            1  2025-10-01 09:50:59  "
      ]
     },
     "metadata": {},
     "output_type": "display_data"
    }
   ],
   "source": [
    "# Latest records\n",
    "df_latest = pd.read_sql_query(\n",
    "    \"SELECT * FROM tick_data ORDER BY time DESC LIMIT 10\", \n",
    "    conn\n",
    ")\n",
    "print(\"Latest 10 records:\")\n",
    "display(df_latest)"
   ]
  },
  {
   "cell_type": "markdown",
   "metadata": {},
   "source": [
    "## 3. Price Analysis"
   ]
  },
  {
   "cell_type": "code",
   "execution_count": 23,
   "metadata": {},
   "outputs": [
    {
     "name": "stdout",
     "output_type": "stream",
     "text": [
      "Price Statistics:\n",
      "  Min Price: $116,329.00\n",
      "  Max Price: $116,529.93\n",
      "  Avg Price: $116,422.96\n",
      "  Price Range: $200.93\n"
     ]
    }
   ],
   "source": [
    "# Price statistics\n",
    "cursor.execute(\"\"\"\n",
    "    SELECT \n",
    "        MIN(price) as min_price,\n",
    "        MAX(price) as max_price,\n",
    "        AVG(price) as avg_price,\n",
    "        COUNT(*) as tick_count\n",
    "    FROM tick_data\n",
    "\"\"\")\n",
    "stats = cursor.fetchone()\n",
    "print(f\"Price Statistics:\")\n",
    "print(f\"  Min Price: ${stats[0]:,.2f}\")\n",
    "print(f\"  Max Price: ${stats[1]:,.2f}\")\n",
    "print(f\"  Avg Price: ${stats[2]:,.2f}\")\n",
    "print(f\"  Price Range: ${stats[1] - stats[0]:,.2f}\")"
   ]
  },
  {
   "cell_type": "code",
   "execution_count": 24,
   "metadata": {},
   "outputs": [
    {
     "name": "stdout",
     "output_type": "stream",
     "text": [
      "Loaded 1000 recent records for analysis\n",
      "Time range: 2025-10-01 17:50:02.796000 to 2025-10-01 17:51:05.278000\n"
     ]
    }
   ],
   "source": [
    "# Load recent price data for plotting\n",
    "query = \"\"\"\n",
    "    SELECT time, price, qty, quoteQty, isBuyerMaker\n",
    "    FROM tick_data \n",
    "    ORDER BY time DESC \n",
    "    LIMIT 1000\n",
    "\"\"\"\n",
    "df_recent = pd.read_sql_query(query, conn)\n",
    "df_recent['time'] = pd.to_datetime(df_recent['time'])\n",
    "df_recent = df_recent.sort_values('time')\n",
    "\n",
    "print(f\"Loaded {len(df_recent)} recent records for analysis\")\n",
    "print(f\"Time range: {df_recent['time'].min()} to {df_recent['time'].max()}\")"
   ]
  },
  {
   "cell_type": "code",
   "execution_count": 25,
   "metadata": {},
   "outputs": [
    {
     "data": {
      "image/png": "[encoded data removed]",
      "text/plain": [
       "<Figure size 1500x800 with 2 Axes>"
      ]
     },
     "metadata": {},
     "output_type": "display_data"
    }
   ],
   "source": [
    "# Plot recent price movements\n",
    "plt.figure(figsize=(15, 8))\n",
    "\n",
    "# Separate buy and sell orders\n",
    "buys = df_recent[df_recent['isBuyerMaker'] == False]  # Market buy orders\n",
    "sells = df_recent[df_recent['isBuyerMaker'] == True]   # Market sell orders\n",
    "\n",
    "plt.subplot(2, 1, 1)\n",
    "plt.scatter(buys['time'], buys['price'], c='green', alpha=0.6, s=20, label='Market Buys')\n",
    "plt.scatter(sells['time'], sells['price'], c='red', alpha=0.6, s=20, label='Market Sells')\n",
    "plt.title('BTC/USDT Tick Prices (Recent 1000 trades)')\n",
    "plt.ylabel('Price ($)')\n",
    "plt.legend()\n",
    "plt.grid(True, alpha=0.3)\n",
    "\n",
    "plt.subplot(2, 1, 2)\n",
    "plt.plot(df_recent['time'], df_recent['price'], linewidth=0.5, alpha=0.8)\n",
    "plt.title('Price Line Chart')\n",
    "plt.xlabel('Time')\n",
    "plt.ylabel('Price ($)')\n",
    "plt.grid(True, alpha=0.3)\n",
    "\n",
    "plt.tight_layout()\n",
    "plt.show()"
   ]
  },
  {
   "cell_type": "markdown",
   "metadata": {},
   "source": [
    "## 4. Volume Analysis"
   ]
  },
  {
   "cell_type": "code",
   "execution_count": 10,
   "metadata": {},
   "outputs": [
    {
     "name": "stdout",
     "output_type": "stream",
     "text": [
      "Volume Statistics:\n",
      "  Total BTC Volume: 244.78180000 BTC\n",
      "  Total USDT Volume: $28,499,330.94\n",
      "  Avg BTC per Trade: 0.00761019 BTC\n",
      "  Avg USDT per Trade: $886.04\n",
      "  Market Buys: 15,885 (49.4%)\n",
      "  Market Sells: 16,280 (50.6%)\n"
     ]
    }
   ],
   "source": [
    "# Volume statistics\n",
    "cursor.execute(\"\"\"\n",
    "    SELECT \n",
    "        SUM(qty) as total_btc_volume,\n",
    "        SUM(quoteQty) as total_usdt_volume,\n",
    "        AVG(qty) as avg_btc_per_trade,\n",
    "        AVG(quoteQty) as avg_usdt_per_trade,\n",
    "        COUNT(CASE WHEN isBuyerMaker = 0 THEN 1 END) as market_buys,\n",
    "        COUNT(CASE WHEN isBuyerMaker = 1 THEN 1 END) as market_sells\n",
    "    FROM tick_data\n",
    "\"\"\")\n",
    "vol_stats = cursor.fetchone()\n",
    "\n",
    "print(f\"Volume Statistics:\")\n",
    "print(f\"  Total BTC Volume: {vol_stats[0]:,.8f} BTC\")\n",
    "print(f\"  Total USDT Volume: ${vol_stats[1]:,.2f}\")\n",
    "print(f\"  Avg BTC per Trade: {vol_stats[2]:,.8f} BTC\")\n",
    "print(f\"  Avg USDT per Trade: ${vol_stats[3]:,.2f}\")\n",
    "print(f\"  Market Buys: {vol_stats[4]:,} ({vol_stats[4]/(vol_stats[4]+vol_stats[5])*100:.1f}%)\")\n",
    "print(f\"  Market Sells: {vol_stats[5]:,} ({vol_stats[5]/(vol_stats[4]+vol_stats[5])*100:.1f}%)\")"
   ]
  },
  {
   "cell_type": "code",
   "execution_count": 11,
   "metadata": {},
   "outputs": [
    {
     "data": {
      "image/png": "[encoded data removed]",
      "text/plain": [
       "<Figure size 1500x600 with 2 Axes>"
      ]
     },
     "metadata": {},
     "output_type": "display_data"
    }
   ],
   "source": [
    "# Plot volume distribution\n",
    "plt.figure(figsize=(15, 6))\n",
    "\n",
    "plt.subplot(1, 2, 1)\n",
    "plt.hist(df_recent['qty'], bins=50, alpha=0.7, edgecolor='black')\n",
    "plt.title('BTC Quantity Distribution')\n",
    "plt.xlabel('BTC Quantity')\n",
    "plt.ylabel('Frequency')\n",
    "plt.yscale('log')\n",
    "\n",
    "plt.subplot(1, 2, 2)\n",
    "plt.hist(df_recent['quoteQty'], bins=50, alpha=0.7, edgecolor='black', color='orange')\n",
    "plt.title('USDT Volume Distribution')\n",
    "plt.xlabel('USDT Volume')\n",
    "plt.ylabel('Frequency')\n",
    "plt.yscale('log')\n",
    "\n",
    "plt.tight_layout()\n",
    "plt.show()"
   ]
  },
  {
   "cell_type": "markdown",
   "metadata": {},
   "source": [
    "## 5. Trade Pattern Analysis"
   ]
  },
  {
   "cell_type": "code",
   "execution_count": 12,
   "metadata": {},
   "outputs": [
    {
     "name": "stdout",
     "output_type": "stream",
     "text": [
      "Buy/Sell pressure by minute:\n"
     ]
    },
    {
     "data": {
      "application/vnd.microsoft.datawrangler.viewer.v0+json": {
       "columns": [
        {
         "name": "minute",
         "rawType": "datetime64[ns]",
         "type": "datetime"
        },
        {
         "name": "('usdt_volume', 0)",
         "rawType": "float64",
         "type": "float"
        },
        {
         "name": "('usdt_volume', 1)",
         "rawType": "float64",
         "type": "float"
        },
        {
         "name": "('trade_count', 0)",
         "rawType": "float64",
         "type": "float"
        },
        {
         "name": "('trade_count', 1)",
         "rawType": "float64",
         "type": "float"
        }
       ],
       "ref": "3ebb2cf7-0b12-4a66-97d5-14c86c7cfd60",
       "rows": [
        [
         "2025-10-01 17:45:00",
         "200302.0521594",
         "33749.7984885",
         "384.0",
         "16.0"
        ],
        [
         "2025-10-01 17:46:00",
         "117771.787151",
         "332902.0308239",
         "59.0",
         "541.0"
        ]
       ],
       "shape": {
        "columns": 4,
        "rows": 2
       }
      },
      "text/html": [
       "<div>\n",
       "<style scoped>\n",
       "    .dataframe tbody tr th:only-of-type {\n",
       "        vertical-align: middle;\n",
       "    }\n",
       "\n",
       "    .dataframe tbody tr th {\n",
       "        vertical-align: top;\n",
       "    }\n",
       "\n",
       "    .dataframe thead tr th {\n",
       "        text-align: left;\n",
       "    }\n",
       "\n",
       "    .dataframe thead tr:last-of-type th {\n",
       "        text-align: right;\n",
       "    }\n",
       "</style>\n",
       "<table border=\"1\" class=\"dataframe\">\n",
       "  <thead>\n",
       "    <tr>\n",
       "      <th></th>\n",
       "      <th colspan=\"2\" halign=\"left\">usdt_volume</th>\n",
       "      <th colspan=\"2\" halign=\"left\">trade_count</th>\n",
       "    </tr>\n",
       "    <tr>\n",
       "      <th>isBuyerMaker</th>\n",
       "      <th>0</th>\n",
       "      <th>1</th>\n",
       "      <th>0</th>\n",
       "      <th>1</th>\n",
       "    </tr>\n",
       "    <tr>\n",
       "      <th>minute</th>\n",
       "      <th></th>\n",
       "      <th></th>\n",
       "      <th></th>\n",
       "      <th></th>\n",
       "    </tr>\n",
       "  </thead>\n",
       "  <tbody>\n",
       "    <tr>\n",
       "      <th>2025-10-01 17:45:00</th>\n",
       "      <td>200302.052159</td>\n",
       "      <td>33749.798488</td>\n",
       "      <td>384.0</td>\n",
       "      <td>16.0</td>\n",
       "    </tr>\n",
       "    <tr>\n",
       "      <th>2025-10-01 17:46:00</th>\n",
       "      <td>117771.787151</td>\n",
       "      <td>332902.030824</td>\n",
       "      <td>59.0</td>\n",
       "      <td>541.0</td>\n",
       "    </tr>\n",
       "  </tbody>\n",
       "</table>\n",
       "</div>"
      ],
      "text/plain": [
       "                       usdt_volume                trade_count       \n",
       "isBuyerMaker                     0              1           0      1\n",
       "minute                                                              \n",
       "2025-10-01 17:45:00  200302.052159   33749.798488       384.0   16.0\n",
       "2025-10-01 17:46:00  117771.787151  332902.030824        59.0  541.0"
      ]
     },
     "metadata": {},
     "output_type": "display_data"
    }
   ],
   "source": [
    "# Analyze buy vs sell pressure over time\n",
    "df_recent['minute'] = df_recent['time'].dt.floor('1min')\n",
    "minute_stats = df_recent.groupby(['minute', 'isBuyerMaker']).agg({\n",
    "    'qty': 'sum',\n",
    "    'quoteQty': 'sum',\n",
    "    'price': 'count'\n",
    "}).reset_index()\n",
    "\n",
    "minute_stats.columns = ['minute', 'isBuyerMaker', 'btc_volume', 'usdt_volume', 'trade_count']\n",
    "\n",
    "# Pivot to separate buy/sell columns\n",
    "buy_sell_by_minute = minute_stats.pivot(index='minute', columns='isBuyerMaker', values=['usdt_volume', 'trade_count']).fillna(0)\n",
    "\n",
    "print(\"Buy/Sell pressure by minute:\")\n",
    "display(buy_sell_by_minute.head())"
   ]
  },
  {
   "cell_type": "code",
   "execution_count": 13,
   "metadata": {},
   "outputs": [
    {
     "ename": "KeyError",
     "evalue": "('usdt_volume', False)",
     "output_type": "error",
     "traceback": [
      "\u001b[31m---------------------------------------------------------------------------\u001b[39m",
      "\u001b[31mKeyError\u001b[39m                                  Traceback (most recent call last)",
      "\u001b[36mFile \u001b[39m\u001b[32mc:\\Users\\Drey\\anaconda3\\envs\\txf\\Lib\\site-packages\\pandas\\core\\indexes\\base.py:3812\u001b[39m, in \u001b[36mIndex.get_loc\u001b[39m\u001b[34m(self, key)\u001b[39m\n\u001b[32m   3811\u001b[39m \u001b[38;5;28;01mtry\u001b[39;00m:\n\u001b[32m-> \u001b[39m\u001b[32m3812\u001b[39m     \u001b[38;5;28;01mreturn\u001b[39;00m \u001b[38;5;28mself\u001b[39m._engine.get_loc(casted_key)\n\u001b[32m   3813\u001b[39m \u001b[38;5;28;01mexcept\u001b[39;00m \u001b[38;5;167;01mKeyError\u001b[39;00m \u001b[38;5;28;01mas\u001b[39;00m err:\n",
      "\u001b[36mFile \u001b[39m\u001b[32mindex.pyx:167\u001b[39m, in \u001b[36mpandas._libs.index.IndexEngine.get_loc\u001b[39m\u001b[34m()\u001b[39m\n",
      "\u001b[36mFile \u001b[39m\u001b[32mindex.pyx:175\u001b[39m, in \u001b[36mpandas._libs.index.IndexEngine.get_loc\u001b[39m\u001b[34m()\u001b[39m\n",
      "\u001b[36mFile \u001b[39m\u001b[32mpandas\\\\_libs\\\\index_class_helper.pxi:70\u001b[39m, in \u001b[36mpandas._libs.index.Int64Engine._check_type\u001b[39m\u001b[34m()\u001b[39m\n",
      "\u001b[31mKeyError\u001b[39m: False",
      "\nThe above exception was the direct cause of the following exception:\n",
      "\u001b[31mKeyError\u001b[39m                                  Traceback (most recent call last)",
      "\u001b[36mFile \u001b[39m\u001b[32mindex.pyx:786\u001b[39m, in \u001b[36mpandas._libs.index.BaseMultiIndexCodesEngine.get_loc\u001b[39m\u001b[34m()\u001b[39m\n",
      "\u001b[36mFile \u001b[39m\u001b[32mc:\\Users\\Drey\\anaconda3\\envs\\txf\\Lib\\site-packages\\pandas\\core\\indexes\\base.py:3819\u001b[39m, in \u001b[36mIndex.get_loc\u001b[39m\u001b[34m(self, key)\u001b[39m\n\u001b[32m   3818\u001b[39m         \u001b[38;5;28;01mraise\u001b[39;00m InvalidIndexError(key)\n\u001b[32m-> \u001b[39m\u001b[32m3819\u001b[39m     \u001b[38;5;28;01mraise\u001b[39;00m \u001b[38;5;167;01mKeyError\u001b[39;00m(key) \u001b[38;5;28;01mfrom\u001b[39;00m\u001b[38;5;250m \u001b[39m\u001b[34;01merr\u001b[39;00m\n\u001b[32m   3820\u001b[39m \u001b[38;5;28;01mexcept\u001b[39;00m \u001b[38;5;167;01mTypeError\u001b[39;00m:\n\u001b[32m   3821\u001b[39m     \u001b[38;5;66;03m# If we have a listlike key, _check_indexing_error will raise\u001b[39;00m\n\u001b[32m   3822\u001b[39m     \u001b[38;5;66;03m#  InvalidIndexError. Otherwise we fall through and re-raise\u001b[39;00m\n\u001b[32m   3823\u001b[39m     \u001b[38;5;66;03m#  the TypeError.\u001b[39;00m\n",
      "\u001b[31mKeyError\u001b[39m: False",
      "\nDuring handling of the above exception, another exception occurred:\n",
      "\u001b[31mKeyError\u001b[39m                                  Traceback (most recent call last)",
      "\u001b[36mFile \u001b[39m\u001b[32mc:\\Users\\Drey\\anaconda3\\envs\\txf\\Lib\\site-packages\\pandas\\core\\indexes\\multi.py:3072\u001b[39m, in \u001b[36mMultiIndex.get_loc\u001b[39m\u001b[34m(self, key)\u001b[39m\n\u001b[32m   3071\u001b[39m \u001b[38;5;28;01mtry\u001b[39;00m:\n\u001b[32m-> \u001b[39m\u001b[32m3072\u001b[39m     \u001b[38;5;28;01mreturn\u001b[39;00m \u001b[38;5;28mself\u001b[39m._engine.get_loc(key)\n\u001b[32m   3073\u001b[39m \u001b[38;5;28;01mexcept\u001b[39;00m \u001b[38;5;167;01mKeyError\u001b[39;00m \u001b[38;5;28;01mas\u001b[39;00m err:\n",
      "\u001b[36mFile \u001b[39m\u001b[32mindex.pyx:789\u001b[39m, in \u001b[36mpandas._libs.index.BaseMultiIndexCodesEngine.get_loc\u001b[39m\u001b[34m()\u001b[39m\n",
      "\u001b[31mKeyError\u001b[39m: ('usdt_volume', False)",
      "\nThe above exception was the direct cause of the following exception:\n",
      "\u001b[31mKeyError\u001b[39m                                  Traceback (most recent call last)",
      "\u001b[36mCell\u001b[39m\u001b[36m \u001b[39m\u001b[32mIn[13]\u001b[39m\u001b[32m, line 6\u001b[39m\n\u001b[32m      3\u001b[39m fig, (ax1, ax2) = plt.subplots(\u001b[32m2\u001b[39m, \u001b[32m1\u001b[39m, figsize=(\u001b[32m15\u001b[39m, \u001b[32m8\u001b[39m), sharex=\u001b[38;5;28;01mTrue\u001b[39;00m)\n\u001b[32m      5\u001b[39m \u001b[38;5;66;03m# Volume comparison\u001b[39;00m\n\u001b[32m----> \u001b[39m\u001b[32m6\u001b[39m ax1.bar(buy_sell_by_minute.index, buy_sell_by_minute[(\u001b[33m'\u001b[39m\u001b[33musdt_volume\u001b[39m\u001b[33m'\u001b[39m, \u001b[38;5;28;01mFalse\u001b[39;00m)], \n\u001b[32m      7\u001b[39m         alpha=\u001b[32m0.7\u001b[39m, color=\u001b[33m'\u001b[39m\u001b[33mgreen\u001b[39m\u001b[33m'\u001b[39m, label=\u001b[33m'\u001b[39m\u001b[33mBuy Volume (USDT)\u001b[39m\u001b[33m'\u001b[39m)\n\u001b[32m      8\u001b[39m ax1.bar(buy_sell_by_minute.index, -buy_sell_by_minute[(\u001b[33m'\u001b[39m\u001b[33musdt_volume\u001b[39m\u001b[33m'\u001b[39m, \u001b[38;5;28;01mTrue\u001b[39;00m)], \n\u001b[32m      9\u001b[39m         alpha=\u001b[32m0.7\u001b[39m, color=\u001b[33m'\u001b[39m\u001b[33mred\u001b[39m\u001b[33m'\u001b[39m, label=\u001b[33m'\u001b[39m\u001b[33mSell Volume (USDT)\u001b[39m\u001b[33m'\u001b[39m)\n\u001b[32m     10\u001b[39m ax1.set_title(\u001b[33m'\u001b[39m\u001b[33mBuy vs Sell Volume by Minute\u001b[39m\u001b[33m'\u001b[39m)\n",
      "\u001b[36mFile \u001b[39m\u001b[32mc:\\Users\\Drey\\anaconda3\\envs\\txf\\Lib\\site-packages\\pandas\\core\\frame.py:4106\u001b[39m, in \u001b[36mDataFrame.__getitem__\u001b[39m\u001b[34m(self, key)\u001b[39m\n\u001b[32m   4104\u001b[39m \u001b[38;5;28;01mif\u001b[39;00m is_single_key:\n\u001b[32m   4105\u001b[39m     \u001b[38;5;28;01mif\u001b[39;00m \u001b[38;5;28mself\u001b[39m.columns.nlevels > \u001b[32m1\u001b[39m:\n\u001b[32m-> \u001b[39m\u001b[32m4106\u001b[39m         \u001b[38;5;28;01mreturn\u001b[39;00m \u001b[38;5;28mself\u001b[39m._getitem_multilevel(key)\n\u001b[32m   4107\u001b[39m     indexer = \u001b[38;5;28mself\u001b[39m.columns.get_loc(key)\n\u001b[32m   4108\u001b[39m     \u001b[38;5;28;01mif\u001b[39;00m is_integer(indexer):\n",
      "\u001b[36mFile \u001b[39m\u001b[32mc:\\Users\\Drey\\anaconda3\\envs\\txf\\Lib\\site-packages\\pandas\\core\\frame.py:4164\u001b[39m, in \u001b[36mDataFrame._getitem_multilevel\u001b[39m\u001b[34m(self, key)\u001b[39m\n\u001b[32m   4162\u001b[39m \u001b[38;5;28;01mdef\u001b[39;00m\u001b[38;5;250m \u001b[39m\u001b[34m_getitem_multilevel\u001b[39m(\u001b[38;5;28mself\u001b[39m, key):\n\u001b[32m   4163\u001b[39m     \u001b[38;5;66;03m# self.columns is a MultiIndex\u001b[39;00m\n\u001b[32m-> \u001b[39m\u001b[32m4164\u001b[39m     loc = \u001b[38;5;28mself\u001b[39m.columns.get_loc(key)\n\u001b[32m   4165\u001b[39m     \u001b[38;5;28;01mif\u001b[39;00m \u001b[38;5;28misinstance\u001b[39m(loc, (\u001b[38;5;28mslice\u001b[39m, np.ndarray)):\n\u001b[32m   4166\u001b[39m         new_columns = \u001b[38;5;28mself\u001b[39m.columns[loc]\n",
      "\u001b[36mFile \u001b[39m\u001b[32mc:\\Users\\Drey\\anaconda3\\envs\\txf\\Lib\\site-packages\\pandas\\core\\indexes\\multi.py:3074\u001b[39m, in \u001b[36mMultiIndex.get_loc\u001b[39m\u001b[34m(self, key)\u001b[39m\n\u001b[32m   3072\u001b[39m     \u001b[38;5;28;01mreturn\u001b[39;00m \u001b[38;5;28mself\u001b[39m._engine.get_loc(key)\n\u001b[32m   3073\u001b[39m \u001b[38;5;28;01mexcept\u001b[39;00m \u001b[38;5;167;01mKeyError\u001b[39;00m \u001b[38;5;28;01mas\u001b[39;00m err:\n\u001b[32m-> \u001b[39m\u001b[32m3074\u001b[39m     \u001b[38;5;28;01mraise\u001b[39;00m \u001b[38;5;167;01mKeyError\u001b[39;00m(key) \u001b[38;5;28;01mfrom\u001b[39;00m\u001b[38;5;250m \u001b[39m\u001b[34;01merr\u001b[39;00m\n\u001b[32m   3075\u001b[39m \u001b[38;5;28;01mexcept\u001b[39;00m \u001b[38;5;167;01mTypeError\u001b[39;00m:\n\u001b[32m   3076\u001b[39m     \u001b[38;5;66;03m# e.g. test_partial_slicing_with_multiindex partial string slicing\u001b[39;00m\n\u001b[32m   3077\u001b[39m     loc, _ = \u001b[38;5;28mself\u001b[39m.get_loc_level(key, \u001b[38;5;28mlist\u001b[39m(\u001b[38;5;28mrange\u001b[39m(\u001b[38;5;28mself\u001b[39m.nlevels)))\n",
      "\u001b[31mKeyError\u001b[39m: ('usdt_volume', False)"
     ]
    },
    {
     "data": {
      "image/png": "[encoded data removed]",
      "text/plain": [
       "<Figure size 1500x800 with 2 Axes>"
      ]
     },
     "metadata": {},
     "output_type": "display_data"
    }
   ],
   "source": [
    "# Plot buy vs sell pressure\n",
    "if len(buy_sell_by_minute) > 1:\n",
    "    fig, (ax1, ax2) = plt.subplots(2, 1, figsize=(15, 8), sharex=True)\n",
    "    \n",
    "    # Volume comparison\n",
    "    ax1.bar(buy_sell_by_minute.index, buy_sell_by_minute[('usdt_volume', False)], \n",
    "            alpha=0.7, color='green', label='Buy Volume (USDT)')\n",
    "    ax1.bar(buy_sell_by_minute.index, -buy_sell_by_minute[('usdt_volume', True)], \n",
    "            alpha=0.7, color='red', label='Sell Volume (USDT)')\n",
    "    ax1.set_title('Buy vs Sell Volume by Minute')\n",
    "    ax1.set_ylabel('USDT Volume')\n",
    "    ax1.legend()\n",
    "    ax1.grid(True, alpha=0.3)\n",
    "    \n",
    "    # Trade count comparison\n",
    "    ax2.bar(buy_sell_by_minute.index, buy_sell_by_minute[('trade_count', False)], \n",
    "            alpha=0.7, color='green', label='Buy Trades')\n",
    "    ax2.bar(buy_sell_by_minute.index, -buy_sell_by_minute[('trade_count', True)], \n",
    "            alpha=0.7, color='red', label='Sell Trades')\n",
    "    ax2.set_title('Buy vs Sell Trade Count by Minute')\n",
    "    ax2.set_xlabel('Time')\n",
    "    ax2.set_ylabel('Trade Count')\n",
    "    ax2.legend()\n",
    "    ax2.grid(True, alpha=0.3)\n",
    "    \n",
    "    plt.tight_layout()\n",
    "    plt.show()\n",
    "else:\n",
    "    print(\"Not enough data for minute-by-minute analysis\")"
   ]
  },
  {
   "cell_type": "markdown",
   "metadata": {},
   "source": [
    "## 6. Data Quality Checks"
   ]
  },
  {
   "cell_type": "code",
   "execution_count": 14,
   "metadata": {},
   "outputs": [
    {
     "name": "stdout",
     "output_type": "stream",
     "text": [
      "Data Quality Checks:\n",
      "  Duplicate IDs: 0\n",
      "  Null prices: 0\n",
      "  Null quantities: 0\n",
      "  Null times: 0\n",
      "  Unrealistic prices: 0\n",
      "  Max time gap between ticks: 1.22 minutes\n"
     ]
    }
   ],
   "source": [
    "# Check for data quality issues\n",
    "print(\"Data Quality Checks:\")\n",
    "\n",
    "# Check for duplicates\n",
    "cursor.execute(\"SELECT COUNT(*) - COUNT(DISTINCT id) as duplicates FROM tick_data\")\n",
    "duplicates = cursor.fetchone()[0]\n",
    "print(f\"  Duplicate IDs: {duplicates}\")\n",
    "\n",
    "# Check for null values\n",
    "cursor.execute(\"\"\"\n",
    "    SELECT \n",
    "        SUM(CASE WHEN price IS NULL THEN 1 ELSE 0 END) as null_prices,\n",
    "        SUM(CASE WHEN qty IS NULL THEN 1 ELSE 0 END) as null_qty,\n",
    "        SUM(CASE WHEN time IS NULL THEN 1 ELSE 0 END) as null_times\n",
    "    FROM tick_data\n",
    "\"\"\")\n",
    "nulls = cursor.fetchone()\n",
    "print(f\"  Null prices: {nulls[0]}\")\n",
    "print(f\"  Null quantities: {nulls[1]}\")\n",
    "print(f\"  Null times: {nulls[2]}\")\n",
    "\n",
    "# Check for unrealistic prices\n",
    "cursor.execute(\"SELECT COUNT(*) FROM tick_data WHERE price <= 0 OR price > 1000000\")\n",
    "bad_prices = cursor.fetchone()[0]\n",
    "print(f\"  Unrealistic prices: {bad_prices}\")\n",
    "\n",
    "# Check time gaps\n",
    "if total_records > 1:\n",
    "    cursor.execute(\"\"\"\n",
    "        SELECT \n",
    "            MAX(julianday(lead_time) - julianday(time)) * 24 * 60 as max_gap_minutes\n",
    "        FROM (\n",
    "            SELECT time, LEAD(time) OVER (ORDER BY time) as lead_time \n",
    "            FROM tick_data\n",
    "        )\n",
    "    \"\"\")\n",
    "    max_gap = cursor.fetchone()[0]\n",
    "    if max_gap:\n",
    "        print(f\"  Max time gap between ticks: {max_gap:.2f} minutes\")"
   ]
  },
  {
   "cell_type": "markdown",
   "metadata": {},
   "source": [
    "## 7. Database Performance"
   ]
  },
  {
   "cell_type": "code",
   "execution_count": 15,
   "metadata": {},
   "outputs": [
    {
     "name": "stdout",
     "output_type": "stream",
     "text": [
      "Query Performance Tests:\n",
      "  Count query: 0.1615 seconds (33,697 records)\n",
      "  Time range query: 0.0582 seconds (100 records)\n",
      "  Aggregation query: 0.0186 seconds\n"
     ]
    }
   ],
   "source": [
    "# Test query performance\n",
    "import time\n",
    "\n",
    "print(\"Query Performance Tests:\")\n",
    "\n",
    "# Test 1: Count all records\n",
    "start_time = time.time()\n",
    "cursor.execute(\"SELECT COUNT(*) FROM tick_data\")\n",
    "result = cursor.fetchone()\n",
    "end_time = time.time()\n",
    "print(f\"  Count query: {end_time - start_time:.4f} seconds ({result[0]:,} records)\")\n",
    "\n",
    "# Test 2: Time-based query (uses index)\n",
    "start_time = time.time()\n",
    "cursor.execute(\"SELECT * FROM tick_data WHERE time > datetime('now', '-1 hour') LIMIT 100\")\n",
    "result = cursor.fetchall()\n",
    "end_time = time.time()\n",
    "print(f\"  Time range query: {end_time - start_time:.4f} seconds ({len(result)} records)\")\n",
    "\n",
    "# Test 3: Aggregation query\n",
    "start_time = time.time()\n",
    "cursor.execute(\"SELECT AVG(price), SUM(qty) FROM tick_data\")\n",
    "result = cursor.fetchone()\n",
    "end_time = time.time()\n",
    "print(f\"  Aggregation query: {end_time - start_time:.4f} seconds\")"
   ]
  },
  {
   "cell_type": "markdown",
   "metadata": {},
   "source": [
    "## 8. Summary"
   ]
  },
  {
   "cell_type": "code",
   "execution_count": 16,
   "metadata": {},
   "outputs": [
    {
     "name": "stdout",
     "output_type": "stream",
     "text": [
      "==================================================\n",
      "DATABASE SUMMARY\n",
      "==================================================\n",
      "Database file: btc_tick_data.db\n",
      "File size: 4.29 MB\n",
      "Total records: 28,514\n",
      "Collection period: 2025-10-01T17:36:54.470000 to 2025-10-01T17:45:15.647000\n",
      "Duration: 0:08:21.177000\n",
      "Avg ticks/second: 56.89\n",
      "Data quality: ✅ Good\n",
      "==================================================\n",
      "\n",
      "Database connection closed.\n"
     ]
    }
   ],
   "source": [
    "print(\"=\" * 50)\n",
    "print(\"DATABASE SUMMARY\")\n",
    "print(\"=\" * 50)\n",
    "print(f\"Database file: {db_path}\")\n",
    "print(f\"File size: {os.path.getsize(db_path) / (1024*1024):.2f} MB\")\n",
    "print(f\"Total records: {total_records:,}\")\n",
    "if min_time and max_time:\n",
    "    print(f\"Collection period: {min_time} to {max_time}\")\n",
    "    duration = datetime.fromisoformat(max_time) - datetime.fromisoformat(min_time)\n",
    "    print(f\"Duration: {duration}\")\n",
    "    if duration.total_seconds() > 0:\n",
    "        print(f\"Avg ticks/second: {total_records / duration.total_seconds():.2f}\")\n",
    "print(f\"Data quality: {'✅ Good' if duplicates == 0 and sum(nulls) == 0 and bad_prices == 0 else '⚠️ Issues detected'}\")\n",
    "print(\"=\" * 50)\n",
    "\n",
    "# Close connection\n",
    "conn.close()\n",
    "print(\"\\nDatabase connection closed.\")"
   ]
  },
  {
   "cell_type": "code",
   "execution_count": null,
   "metadata": {},
   "outputs": [],
   "source": []
  }
 ],
 "metadata": {
  "kernelspec": {
   "display_name": "txf",
   "language": "python",
   "name": "python3"
  },
  "language_info": {
   "codemirror_mode": {
    "name": "ipython",
    "version": 3
   },
   "file_extension": ".py",
   "mimetype": "text/x-python",
   "name": "python",
   "nbconvert_exporter": "python",
   "pygments_lexer": "ipython3",
   "version": "3.11.13"
  }
 },
 "nbformat": 4,
 "nbformat_minor": 4
}
